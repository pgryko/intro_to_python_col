{
 "cells": [
  {
   "cell_type": "markdown",
   "metadata": {},
   "source": [
    "# Interact with PDF Files\n",
    "PDF files have become a sort of necessary evil these days. Despite their frequent use,\n",
    "PDFs are some of the most difficult files to work with in terms of making modifications,\n",
    "combining files, and especially for extracting text information.\n",
    "\n",
    "We are going to install a library called PyPDF2. On a linux machine we will do:\n",
    "\n",
    "$\tpip\tinstall\tPyPDF2\n",
    "\n",
    "On a Windows machine using Anaconda\n",
    "\n",
    "Start - > anaconda3 -> anaconda prompt\n",
    "\n",
    "![](img/anaconda_prompt.png)\n",
    "\n",
    "And then in the command prompt, type:\n",
    "\n",
    "\n",
    "> conda install -c conda-forge pypdf2\n",
    "\n",
    "![](img/anaconda_prompt2.png)"
   ]
  },
  {
   "cell_type": "markdown",
   "metadata": {},
   "source": [
    "The\tPyPDF2\tpackage\tincludes\ta\tPdfFileReader\tand\ta\tPdfFileWriter;\tjust\tlike\twhen\n",
    "performing\tother\ttypes\tof\tfile\tinput/output,\treading\tand\twriting\tare\ttwo\tentirely\tseparate\n",
    "processes."
   ]
  },
  {
   "cell_type": "code",
   "execution_count": 2,
   "metadata": {},
   "outputs": [],
   "source": [
    "import os\n",
    "from PyPDF2 import PdfFileReader"
   ]
  },
  {
   "cell_type": "markdown",
   "metadata": {},
   "source": [
    "First,\tlet's\tget\tstarted\tby\treading\tin\tsome\tbasic\tinformation\tfrom\ta\tsample\tPDF\tfile,\tthe\n",
    "first\tcouple\tchapters\tof\tJane\tAusten's\tPride\tand\tPrejudice\tvia\tProject\tGutenberg:"
   ]
  },
  {
   "cell_type": "code",
   "execution_count": 4,
   "metadata": {},
   "outputs": [
    {
     "name": "stdout",
     "output_type": "stream",
     "text": [
      "Number of pages: 234\n",
      "Title: Pride and Prejudice, by Jane Austen\n"
     ]
    }
   ],
   "source": [
    "path = \"./pdf\"\n",
    "input_file_name = os.path.join(path, \"Pride and Prejudice.pdf\")\n",
    "input_file = PdfFileReader(open(input_file_name,\"rb\"))\n",
    "\n",
    "print(\"Number of pages:\",input_file.getNumPages())\n",
    "print(\"Title:\",input_file.getDocumentInfo().title)"
   ]
  },
  {
   "cell_type": "markdown",
   "metadata": {},
   "source": [
    "We created a PdfFileReader object named   input_file   by passing a   file()   object\n",
    "with   rb   (read binary) mode and giving the full path of the file. The additional \"binary\"\n",
    "part is necessary for reading PDF files because we aren't just reading basic text data.\n",
    "PDFs include much more complicated information, and saying \"rb\" here instead of just\n",
    "\"r\" tells Python that we might encounter characters that can't be represented as standard\n",
    "readable text.\n",
    "\n",
    "We also have access to certain attributes through the getDocumentInfo() method; in fact, if we display\n",
    "the result of simply calling this method, we will see a dictionary with all of the available\n",
    "document info:"
   ]
  },
  {
   "cell_type": "code",
   "execution_count": 7,
   "metadata": {},
   "outputs": [
    {
     "name": "stdout",
     "output_type": "stream",
     "text": [
      "{'/Producer': 'Microsoft® Office Word 2007', '/Creator': 'Microsoft® Office Word 2007', '/CreationDate': 'D:20110812174208', '/Author': 'Chuck', '/ModDate': 'D:20110812174208', '/Title': 'Pride and Prejudice, by Jane Austen'}\n"
     ]
    }
   ],
   "source": [
    "print(input_file.getDocumentInfo())"
   ]
  },
  {
   "cell_type": "markdown",
   "metadata": {},
   "source": [
    "Formatting standards in PDFs are inconsistent at best, and it's usually necessary to take\n",
    "a look at the PDF files you want to use on a case-by-case basis. In this instance, notice\n",
    "how we don't actually see newline characters in the output; instead, it appears that new\n",
    "lines are being represented as multiple spaces in the text extracted by PyPDF2. We can\n",
    "use this knowledge to write out a roughly formatted version of the book to a plain text file\n",
    "(for instance, if we only had the PDF available and wanted to make it readable on an\n",
    "untalented (err dumb) mobile device):"
   ]
  },
  {
   "cell_type": "code",
   "execution_count": null,
   "metadata": {},
   "outputs": [],
   "source": [
    "output_file_name = os.path.join(path, \"temp/Pride and Prejudice.txt\")\n",
    "output_file = open(output_file_name, \"w\")\n",
    "title = input_file.getDocumentInfo().title # get the file title\n",
    "total_pages = input_file.getNumPages() # get the total page count\n",
    "output_file.write(title + \"\\n\")\n",
    "output_file.write(\"Number of pages: {}\\n\\n\".format(total_pages))\n",
    "for page_num in range(0, total_pages):\n",
    "    text = input_file.getPage(page_num).extractText()\n",
    "    text = text.replace(\"  \", \"\\n\")\n",
    "    output_file.write(text)\n",
    "output_file.close()"
   ]
  }
 ],
 "metadata": {
  "kernelspec": {
   "display_name": "Python 3",
   "language": "python",
   "name": "python3"
  },
  "language_info": {
   "codemirror_mode": {
    "name": "ipython",
    "version": 3
   },
   "file_extension": ".py",
   "mimetype": "text/x-python",
   "name": "python",
   "nbconvert_exporter": "python",
   "pygments_lexer": "ipython3",
   "version": "3.5.2"
  }
 },
 "nbformat": 4,
 "nbformat_minor": 2
}
