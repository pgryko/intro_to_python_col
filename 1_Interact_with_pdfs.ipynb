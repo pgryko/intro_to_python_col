{
 "cells": [
  {
   "cell_type": "markdown",
   "metadata": {},
   "source": [
    "# Interact with PDF Files\n",
    "PDF files have become a sort of necessary evil these days. Despite their frequent use,\n",
    "PDFs are some of the most difficult files to work with in terms of making modifications,\n",
    "combining files, and especially for extracting text information.\n",
    "\n",
    "We are going to install a library called PyPDF2. On a linux machine we will do:\n",
    "\n",
    "$\tpip\tinstall\tPyPDF2\n",
    "\n",
    "On a Windows machine using Anaconda\n",
    "\n",
    "Start - > anaconda3 -> anaconda prompt\n",
    "\n",
    "![](img/anaconda_prompt.png)\n",
    "\n",
    "And then in the command prompt, type:\n",
    "\n",
    "\n",
    "> conda install -c conda-forge pypdf2\n",
    "\n",
    "![](img/anaconda_prompt2.png)"
   ]
  },
  {
   "cell_type": "markdown",
   "metadata": {},
   "source": [
    " Interactuar con archivos PDF\n",
    "Los archivos PDF se han convertido en una especie de mal necesario en estos días. A pesar de su uso frecuente,\n",
    "Los archivos PDF son algunos de los archivos más difíciles de trabajar en términos de modificaciones,\n",
    "combinando archivos, y especialmente para extraer información de texto.\n",
    "\n",
    "Vamos a instalar una biblioteca llamada PyPDF2. En una máquina Linux, haremos:\n",
    "\n",
    "$ pip install PyPDF2\n",
    "\n",
    "En una máquina con Windows que usa Anaconda\n",
    "\n",
    "Inicio -> anaconda3 -> anaconda prompt\n",
    "\n",
    "![](img/anaconda_prompt.png)\n",
    "\n",
    "Y luego en el símbolo del sistema, escriba:\n",
    "\n",
    "\n",
    "> conda install -c conda-forge pypdf2\n",
    "\n",
    "![](img/anaconda_prompt2.png)"
   ]
  },
  {
   "cell_type": "markdown",
   "metadata": {},
   "source": [
    "The\tPyPDF2\tpackage\tincludes\ta\tPdfFileReader\tand\ta\tPdfFileWriter;\tjust\tlike\twhen\n",
    "performing\tother\ttypes\tof\tfile\tinput/output,\treading\tand\twriting\tare\ttwo\tentirely\tseparate\n",
    "processes."
   ]
  },
  {
   "cell_type": "markdown",
   "metadata": {},
   "source": [
    "El paquete PyPDF2 incluye un PdfFileReader y un PdfFileWriter; justo como cuando\n",
    "realizar otros tipos de entrada / salida de archivo, leer y escribir son dos cosas completamente separadas\n",
    "procesos."
   ]
  },
  {
   "cell_type": "code",
   "execution_count": 1,
   "metadata": {},
   "outputs": [
    {
     "name": "stdout",
     "output_type": "stream",
     "text": [
      "We have now imported modules\n"
     ]
    }
   ],
   "source": [
    "import os\n",
    "from PyPDF2 import PdfFileReader\n",
    "\n",
    "print('We have now imported modules')"
   ]
  },
  {
   "cell_type": "markdown",
   "metadata": {},
   "source": [
    "First,\tlet's\tget\tstarted\tby\treading\tin\tsome\tbasic\tinformation\tfrom\ta\tsample\tPDF\tfile,\tthe\n",
    "first\tcouple\tchapters\tof\tJane\tAusten's\tPride\tand\tPrejudice\tvia\tProject\tGutenberg:"
   ]
  },
  {
   "cell_type": "markdown",
   "metadata": {},
   "source": [
    "Primero, empecemos leyendo información básica de un archivo PDF de muestra, los primeros dos capítulos de Orgullo y prejuicio de Jane Austen a través del Proyecto Gutenberg:"
   ]
  },
  {
   "cell_type": "code",
   "execution_count": 4,
   "metadata": {},
   "outputs": [
    {
     "name": "stdout",
     "output_type": "stream",
     "text": [
      "Number of pages: 234\n",
      "Title: Pride and Prejudice, by Jane Austen\n"
     ]
    }
   ],
   "source": [
    "input_file_name =  os.path.abspath(\"./pdf/Pride_and_Prejudice.pdf\")\n",
    "input_file = PdfFileReader(open(input_file_name,\"rb\"))\n",
    "\n",
    "print(\"Number of pages:\",input_file.getNumPages())\n",
    "print(\"Title:\",input_file.getDocumentInfo().title)"
   ]
  },
  {
   "cell_type": "markdown",
   "metadata": {},
   "source": [
    "We created a PdfFileReader object named   input_file   by passing a   file()   object\n",
    "with   rb   (read binary) mode and giving the full path of the file. The additional \"binary\"\n",
    "part is necessary for reading PDF files because we aren't just reading basic text data.\n",
    "PDFs include much more complicated information, and saying \"rb\" here instead of just\n",
    "\"r\" tells Python that we might encounter characters that can't be represented as standard\n",
    "readable text.\n",
    "\n",
    "We also have access to certain attributes through the getDocumentInfo() method; in fact, if we display\n",
    "the result of simply calling this method, we will see a dictionary with all of the available\n",
    "document info:"
   ]
  },
  {
   "cell_type": "markdown",
   "metadata": {},
   "source": [
    "Creamos un objeto PdfFileReader llamado input_file pasando un objeto file () con el modo rb (read binary) y dando la ruta completa del archivo. La parte \"binaria\" adicional es necesaria para leer archivos PDF porque no solo estamos leyendo datos de texto básicos. Los PDF incluyen información mucho más complicada, y decir \"rb\" aquí en lugar de simplemente \"r\" le dice a Python que podríamos encontrar caracteres que no se pueden representar como texto legible estándar.\n",
    "\n",
    "También tenemos acceso a ciertos atributos a través del método getDocumentInfo (); de hecho, si mostramos el resultado de simplemente llamar a este método, veremos un diccionario con toda la información del documento disponible:"
   ]
  },
  {
   "cell_type": "code",
   "execution_count": null,
   "metadata": {},
   "outputs": [],
   "source": [
    "print(input_file.getDocumentInfo())"
   ]
  },
  {
   "cell_type": "markdown",
   "metadata": {},
   "source": [
    "Formatting standards in PDFs are inconsistent at best, and it's usually necessary to take\n",
    "a look at the PDF files you want to use on a case-by-case basis. In this instance, notice\n",
    "how we don't actually see newline characters in the output; instead, it appears that new\n",
    "lines are being represented as multiple spaces in the text extracted by PyPDF2. We can\n",
    "use this knowledge to write out a roughly formatted version of the book to a plain text file\n",
    "(for instance, if we only had the PDF available and wanted to make it readable on an\n",
    "untalented (err dumb) mobile device):"
   ]
  },
  {
   "cell_type": "markdown",
   "metadata": {},
   "source": [
    "Los estándares de formato en archivos PDF son inconsistentes en el mejor de los casos, y generalmente es necesario analizar los archivos PDF que desea usar caso por caso. En este caso, observe cómo realmente no vemos caracteres de nueva línea en el resultado; en cambio, parece que las nuevas líneas se representan como espacios múltiples en el texto extraído por PyPDF2. Podemos usar este conocimiento para escribir una versión aproximadamente formateada del libro en un archivo de texto sin formato (por ejemplo, si solo teníamos el PDF disponible y queríamos que fuera legible en un dispositivo móvil sin talento (err tonto)):\n"
   ]
  },
  {
   "cell_type": "code",
   "execution_count": 6,
   "metadata": {},
   "outputs": [],
   "source": [
    "output_file_name = os.path.abspath(\"./temp/Pride_and_Prejudice.txt\")\n",
    "output_file = open(output_file_name, \"w\")\n",
    "title = input_file.getDocumentInfo().title # get the file title\n",
    "total_pages = input_file.getNumPages() # get the total page count\n",
    "output_file.write(title + \"\\n\")\n",
    "output_file.write(\"Number of pages: {}\\n\\n\".format(total_pages))\n",
    "for page_num in range(0, total_pages):\n",
    "    text = input_file.getPage(page_num).extractText()\n",
    "    text = text.replace(\"  \", \"\\n\")\n",
    "    output_file.write(text)\n",
    "output_file.close()"
   ]
  },
  {
   "cell_type": "markdown",
   "metadata": {},
   "source": [
    "Since we're writing out basic text, we chose the plain   w   mode and created a file\n",
    "book.txt in the \"Output\" folder. Meanwhile, we still use   rb   mode to read data from the\n",
    "PDF file since, before we can extract the plain text from each page, we are in fact\n",
    "reading much more complicated data. We loop over every page number in the PDF file,\n",
    "extracting the text from that page. Since we know that new lines will show up as\n",
    "additional spaces, we can approximate better formatting by replacing every instance of\n",
    "double spaces (  \" \"  ) with a newline character."
   ]
  },
  {
   "cell_type": "markdown",
   "metadata": {},
   "source": [
    "Instead of extracting text, we might want to modify the PDF file itself, saving out a new\n",
    "version of the PDF. We'll see more examples of why and how this might occur in the\n",
    "next section, but for now create the simplest \"modified\" file by saving out only a section of the original file. Here we copy over the first three pages of the PDF (not including the\n",
    "cover page) into a new PDF file:"
   ]
  },
  {
   "cell_type": "markdown",
   "metadata": {},
   "source": [
    "Como estamos escribiendo texto básico, elegimos el modo plain w y creamos un archivo book.txt en la carpeta \"Salida\". Mientras tanto, todavía usamos el modo rb para leer los datos del archivo PDF ya que, antes de que podamos extraer el texto sin formato de cada página, de hecho estamos leyendo datos mucho más complicados. Recorrimos cada número de página en el archivo PDF, extrayendo el texto de esa página. Como sabemos que las nuevas líneas se mostrarán como espacios adicionales, podemos aproximarnos al mejor formato reemplazando cada instancia de espacios dobles (\"\") con un carácter de nueva línea.\n",
    "\n",
    "En lugar de extraer texto, es posible que deseemos modificar el archivo PDF en sí, guardando una nueva versión del PDF. Veremos más ejemplos de por qué y cómo podría ocurrir esto en la próxima sección, pero por ahora cree el archivo \"modificado\" más simple guardando solo una sección del archivo original. Aquí copiamos las primeras tres páginas del PDF (sin incluir la página de portada) en un nuevo archivo PDF:"
   ]
  },
  {
   "cell_type": "code",
   "execution_count": 5,
   "metadata": {},
   "outputs": [],
   "source": [
    "import os\n",
    "from PyPDF2 import PdfFileReader, PdfFileWriter\n",
    "\n",
    "input_file_name = os.path.abspath(\"./pdf/Pride_and_Prejudice.pdf\")\n",
    "input_file = PdfFileReader(open(input_file_name, \"rb\"))\n",
    "output_PDF = PdfFileWriter()\n",
    "for page_num in range(1, 4):\n",
    "    output_PDF.addPage(input_file.getPage(page_num))\n",
    "output_file_name = os.path.abspath(\"./temp/portion.pdf\")\n",
    "output_file = open(output_file_name, \"wb\")\n",
    "output_PDF.write(output_file)\n",
    "output_file.close()"
   ]
  },
  {
   "cell_type": "code",
   "execution_count": null,
   "metadata": {},
   "outputs": [],
   "source": []
  },
  {
   "cell_type": "code",
   "execution_count": null,
   "metadata": {},
   "outputs": [],
   "source": []
  }
 ],
 "metadata": {
  "kernelspec": {
   "display_name": "Python 3",
   "language": "python",
   "name": "python3"
  },
  "language_info": {
   "codemirror_mode": {
    "name": "ipython",
    "version": 3
   },
   "file_extension": ".py",
   "mimetype": "text/x-python",
   "name": "python",
   "nbconvert_exporter": "python",
   "pygments_lexer": "ipython3",
   "version": "3.5.2"
  }
 },
 "nbformat": 4,
 "nbformat_minor": 2
}
