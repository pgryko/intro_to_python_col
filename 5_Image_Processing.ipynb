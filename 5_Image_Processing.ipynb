{
 "cells": [
  {
   "cell_type": "markdown",
   "metadata": {},
   "source": [
    "# Image processing with amazon rekognition\n",
    "\n",
    "Amazon Rekognition is a service that makes it easy to add image analysis to your applications.\n",
    "\n",
    "Using AWS Rekognition, you can build applications to detect objects, scenes, text, faces or even to recognize celebrities and identify inappropriate content in images like nudity for instance.\n",
    "\n",
    "Rekognition allows also the search and the detection of faces."
   ]
  },
  {
   "cell_type": "markdown",
   "metadata": {},
   "source": [
    "Procesamiento de imágenes con Amazon rekognition\n",
    "\n",
    "Amazon Rekognition es un servicio que facilita agregar análisis de imágenes a sus aplicaciones.\n",
    "\n",
    "Usando AWS Rekognition, puedes crear aplicaciones para detectar objetos, escenas, texto, caras o incluso para reconocer celebridades e identificar contenido inapropiado en imágenes como la desnudez, por ejemplo.\n",
    "\n",
    "Rekognition también permite la búsqueda y la detección de caras.\n"
   ]
  },
  {
   "cell_type": "markdown",
   "metadata": {},
   "source": [
    "# Sample photo\n",
    "\n",
    "![](https://upload.wikimedia.org/wikipedia/commons/thumb/8/88/Stephen_Hawking_David_Fleming_Martin_Curley.png/640px-Stephen_Hawking_David_Fleming_Martin_Curley.png)"
   ]
  },
  {
   "cell_type": "code",
   "execution_count": null,
   "metadata": {},
   "outputs": [],
   "source": [
    "import boto3, requests\n",
    "session = boto3.Session(profile_name='default')\n",
    "rekognition = session.client('rekognition')\n",
    "\n",
    "response = requests.get('https://upload.wikimedia.org/wikipedia/commons/thumb/8/88/Stephen_Hawking_David_Fleming_Martin_Curley.png/640px-Stephen_Hawking_David_Fleming_Martin_Curley.png')\n",
    "response_content = response.content\n",
    "\n",
    "rekognition_response = rekognition.detect_faces(Image={'Bytes': response_content}, Attributes=['ALL'])\n",
    "                           \n",
    "print(rekognition_response)"
   ]
  },
  {
   "cell_type": "code",
   "execution_count": null,
   "metadata": {},
   "outputs": [],
   "source": [
    "from pprint import pprint\n",
    "pprint(rekognition_response)"
   ]
  },
  {
   "cell_type": "code",
   "execution_count": null,
   "metadata": {},
   "outputs": [],
   "source": [
    "type(rekognition_response)"
   ]
  },
  {
   "cell_type": "code",
   "execution_count": null,
   "metadata": {},
   "outputs": [],
   "source": [
    "rekognition_response.keys()"
   ]
  },
  {
   "cell_type": "markdown",
   "metadata": {},
   "source": [
    "Look at just one person: \n",
    "\n",
    "Mira a solo una persona:"
   ]
  },
  {
   "cell_type": "code",
   "execution_count": null,
   "metadata": {},
   "outputs": [],
   "source": [
    "pprint(rekognition_response['FaceDetails'][0])"
   ]
  },
  {
   "cell_type": "markdown",
   "metadata": {},
   "source": [
    "# Which person is famous?\n",
    "\n",
    "# ¿Qué persona es famosa?"
   ]
  },
  {
   "cell_type": "code",
   "execution_count": null,
   "metadata": {},
   "outputs": [],
   "source": [
    "import boto3, requests\n",
    "session = boto3.Session(profile_name='default')\n",
    "rekognition = session.client('rekognition')\n",
    "\n",
    "response = requests.get('https://upload.wikimedia.org/wikipedia/commons/thumb/8/88/Stephen_Hawking_David_Fleming_Martin_Curley.png/640px-Stephen_Hawking_David_Fleming_Martin_Curley.png')\n",
    "\n",
    "response_content = response.content\n",
    "\n",
    "rekognition_response = rekognition.recognize_celebrities(Image={'Bytes': response_content})\n",
    "\n",
    "pprint(rekognition_response)"
   ]
  },
  {
   "cell_type": "code",
   "execution_count": null,
   "metadata": {},
   "outputs": [],
   "source": []
  }
 ],
 "metadata": {
  "kernelspec": {
   "display_name": "Python 3",
   "language": "python",
   "name": "python3"
  },
  "language_info": {
   "codemirror_mode": {
    "name": "ipython",
    "version": 3
   },
   "file_extension": ".py",
   "mimetype": "text/x-python",
   "name": "python",
   "nbconvert_exporter": "python",
   "pygments_lexer": "ipython3",
   "version": "3.5.2"
  }
 },
 "nbformat": 4,
 "nbformat_minor": 2
}
