{
 "cells": [
  {
   "cell_type": "markdown",
   "metadata": {},
   "source": [
    "Excel is a popular and powerful spreadsheet application for Windows. The openpyxl module allows your Python programs to read and modify Excel spreadsheet files. For example, you might have the boring task of copying certain data from one spreadsheet and pasting it into another one. Or you might have to go through thousands of rows and pick out just a handful of them to make small edits based on some criteria. Or you might have to look through hundreds of spreadsheets of department budgets, searching for any that are in the red. These are exactly the sort of boring, mindless spreadsheet tasks that Python can do for you."
   ]
  },
  {
   "cell_type": "markdown",
   "metadata": {},
   "source": [
    "Excel es una aplicación de hoja de cálculo popular y potente para Windows. El módulo openpyxl le permite a sus programas de Python leer y modificar archivos de hojas de cálculo de Excel. Por ejemplo, puede que tenga la aburrida tarea de copiar ciertos datos de una hoja de cálculo y pegarla en otra. O tal vez tenga que recorrer miles de filas y seleccionar solo unas pocas para realizar pequeñas ediciones basadas en algunos criterios. O tal vez tenga que consultar cientos de hojas de cálculo de los presupuestos de los departamentos, buscando los que están en rojo. Estas son exactamente las tareas de hoja de cálculo aburridas y sin sentido que Python puede hacer por usted."
   ]
  },
  {
   "cell_type": "code",
   "execution_count": null,
   "metadata": {},
   "outputs": [],
   "source": [
    "import openpyxl\n",
    "\n",
    "wb = openpyxl.load_workbook('spreadsheet/example.xlsx')\n"
   ]
  },
  {
   "cell_type": "code",
   "execution_count": null,
   "metadata": {},
   "outputs": [],
   "source": [
    "type(wb)"
   ]
  },
  {
   "cell_type": "markdown",
   "metadata": {},
   "source": [
    "You can get a list of all the sheet names in the workbook by calling the .sheetnames\n",
    " method. Enter the following into the interactive shell:"
   ]
  },
  {
   "cell_type": "markdown",
   "metadata": {},
   "source": [
    "Puede obtener una lista de todos los nombres de las hojas en el libro llamando al método .sheetnames\n",
    ". Ingrese lo siguiente en el shell interactivo:"
   ]
  },
  {
   "cell_type": "code",
   "execution_count": null,
   "metadata": {},
   "outputs": [],
   "source": [
    "wb.sheetnames\n"
   ]
  },
  {
   "cell_type": "code",
   "execution_count": null,
   "metadata": {},
   "outputs": [],
   "source": [
    "sheet = wb['Sheet3']\n",
    "sheet"
   ]
  },
  {
   "cell_type": "code",
   "execution_count": null,
   "metadata": {},
   "outputs": [],
   "source": [
    "type(sheet)\n"
   ]
  },
  {
   "cell_type": "code",
   "execution_count": null,
   "metadata": {},
   "outputs": [],
   "source": [
    "sheet.title"
   ]
  },
  {
   "cell_type": "markdown",
   "metadata": {},
   "source": [
    "Each sheet is represented by a Worksheet object, which you can obtain by passing the sheet name string to the wb['Sheet3'] workbook method. Finally, you can read the active member variable of a Workbook object to get the workbook’s active sheet. The active sheet is the sheet that’s on top when the workbook is opened in Excel. Once you have the Worksheet object, you can get its name from the title attribute"
   ]
  },
  {
   "cell_type": "markdown",
   "metadata": {},
   "source": [
    "Cada hoja está representada por un objeto Hoja de trabajo, que puede obtener pasando la cadena del nombre de la hoja al método del libro wb['Sheet3']. Finalmente, puede leer la variable de miembro activo de un objeto Libro de trabajo para obtener la hoja activa del libro. La hoja activa es la hoja que está en la parte superior cuando el libro de trabajo se abre en Excel. Una vez que tiene el objeto Hoja de cálculo, puede obtener su nombre del atributo de título"
   ]
  },
  {
   "cell_type": "code",
   "execution_count": null,
   "metadata": {},
   "outputs": [],
   "source": [
    "anotherSheet = wb.active\n",
    "anotherSheet"
   ]
  },
  {
   "cell_type": "markdown",
   "metadata": {},
   "source": [
    "# Getting Cells from the Sheets"
   ]
  },
  {
   "cell_type": "code",
   "execution_count": null,
   "metadata": {},
   "outputs": [],
   "source": [
    "sheet = wb['Sheet1']\n",
    "sheet['A1']\n"
   ]
  },
  {
   "cell_type": "code",
   "execution_count": null,
   "metadata": {},
   "outputs": [],
   "source": [
    "sheet['A1'].value\n"
   ]
  },
  {
   "cell_type": "code",
   "execution_count": null,
   "metadata": {},
   "outputs": [],
   "source": [
    "c = sheet['B1']\n",
    "c.value"
   ]
  },
  {
   "cell_type": "code",
   "execution_count": null,
   "metadata": {},
   "outputs": [],
   "source": [
    "'Row ' + str(c.row) + ', Column ' + c.column + ' is ' + c.value\n",
    "'Cell ' + c.coordinate + ' is ' + c.value\n"
   ]
  },
  {
   "cell_type": "code",
   "execution_count": null,
   "metadata": {},
   "outputs": [],
   "source": [
    "sheet['C1'].value"
   ]
  },
  {
   "cell_type": "markdown",
   "metadata": {},
   "source": [
    "The Cell object has a value attribute that contains, unsurprisingly, the value stored in that cell. Cell objects also have row, column, and coordinate attributes that provide location information for the cell.\n",
    "\n",
    "Here, accessing the value attribute of our Cell object for cell B1 gives us the string 'Apples'. The row attribute gives us the integer 1, the column attribute gives us 'B', and the coordinate attribute gives us 'B1'.\n",
    "\n",
    "OpenPyXL will automatically interpret the dates in column A and return them as datetime values rather than strings. The datetime data type is explained further in Chapter 16.\n",
    "\n",
    "Specifying a column by letter can be tricky to program, especially because after column Z, the columns start by using two letters: AA, AB, AC, and so on. As an alternative, you can also get a cell using the sheet’s cell() method and passing integers for its row and column keyword arguments. The first row or column integer is 1, not 0. Continue the interactive shell example by entering the following:"
   ]
  },
  {
   "cell_type": "markdown",
   "metadata": {},
   "source": [
    "El objeto Cell tiene un atributo de valor que contiene, como era de esperar, el valor almacenado en esa celda. Los objetos de celda también tienen atributos de fila, columna y coordenadas que proporcionan información de ubicación para la celda.\n",
    "\n",
    "Aquí, acceder al atributo de valor de nuestro objeto Cell para la celda B1 nos da la cadena 'Apples'. El atributo de fila nos da el número entero 1, el atributo de columna nos da 'B', y el atributo de coordenadas nos da 'B1'.\n",
    "\n",
    "OpenPyXL interpretará automáticamente las fechas en la columna A y las devolverá como valores de fecha y hora en lugar de cadenas. El tipo de datos de fecha y hora se explica con más detalle en el Capítulo 16.\n",
    "\n",
    "Especificar una columna por carta puede ser difícil de programar, especialmente porque después de la columna Z, las columnas comienzan con dos letras: AA, AB, AC, y así sucesivamente. Como alternativa, también puede obtener una celda utilizando el método cell () de la hoja y pasando enteros para sus argumentos de palabras clave de fila y columna. El primer entero de fila o columna es 1, no 0. Continúe con el ejemplo de shell interactivo ingresando lo siguiente:"
   ]
  },
  {
   "cell_type": "code",
   "execution_count": null,
   "metadata": {},
   "outputs": [],
   "source": [
    "sheet.cell(row=1, column=2)"
   ]
  },
  {
   "cell_type": "code",
   "execution_count": null,
   "metadata": {},
   "outputs": [],
   "source": [
    "sheet.cell(row=1, column=2).value"
   ]
  },
  {
   "cell_type": "code",
   "execution_count": null,
   "metadata": {},
   "outputs": [],
   "source": [
    "for i in range(1, 8, 2):\n",
    "    print(i, sheet.cell(row=i, column=2).value)"
   ]
  },
  {
   "cell_type": "markdown",
   "metadata": {},
   "source": [
    "As you can see, using the sheet’s cell() method and passing it row=1 and column=2 gets you a Cell object for cell B1, just like specifying sheet['B1'] did. Then, using the cell() method and its keyword arguments, you can write a for loop to print the values of a series of cells.\n",
    "\n",
    "Say you want to go down column B and print the value in every cell with an odd row number. By passing 2 for the range() function’s “step” parameter, you can get cells from every second row (in this case, all the odd-numbered rows). The for loop’s i variable is passed for the row keyword argument to the cell() method, while 2 is always passed for the column keyword argument. Note that the integer 2, not the string 'B', is passed."
   ]
  },
  {
   "cell_type": "markdown",
   "metadata": {},
   "source": [
    "Como puede ver, usar el método cell () de la hoja y pasarlo row = 1 y column = 2 le proporciona un objeto Cell para la celda B1, igual que lo hizo especificar la hoja ['B1']. Luego, utilizando el método cell () y sus argumentos de palabra clave, puede escribir un ciclo for para imprimir los valores de una serie de celdas.\n",
    "\n",
    "Supongamos que quiere ir a la columna B e imprimir el valor en cada celda con un número de fila impar. Al pasar 2 para el parámetro \"paso\" de la función range (), puede obtener celdas de cada segunda fila (en este caso, todas las filas impares). La variable i del bucle for se pasa para el argumento de palabra clave de fila al método cell (), mientras que 2 siempre se pasa para el argumento de palabra clave de columna. Tenga en cuenta que se pasa el entero 2, no la cadena 'B'."
   ]
  },
  {
   "cell_type": "markdown",
   "metadata": {},
   "source": [
    "You can determine the size of the sheet with the Worksheet object’s max_row and max_column member variables. Enter the following into the interactive shell:"
   ]
  },
  {
   "cell_type": "markdown",
   "metadata": {},
   "source": [
    "Puede determinar el tamaño de la hoja con las variables de miembro max_row y max_column del objeto Hoja de cálculo. Ingrese lo siguiente en el shell interactivo:"
   ]
  },
  {
   "cell_type": "code",
   "execution_count": null,
   "metadata": {},
   "outputs": [],
   "source": [
    "sheet = wb['Sheet1']\n"
   ]
  },
  {
   "cell_type": "code",
   "execution_count": null,
   "metadata": {},
   "outputs": [],
   "source": [
    "sheet.max_row\n"
   ]
  },
  {
   "cell_type": "code",
   "execution_count": null,
   "metadata": {},
   "outputs": [],
   "source": [
    "sheet.max_column"
   ]
  },
  {
   "cell_type": "markdown",
   "metadata": {},
   "source": [
    "# Converting Between Column Letters and Numbers\n",
    "\n",
    "To convert from letters to numbers, call the openpyxl.cell.column_index_from_string() function. To convert from numbers to letters, call the openpyxl.cell.get_column_letter() function. Enter the following into the interactive shell:"
   ]
  },
  {
   "cell_type": "markdown",
   "metadata": {},
   "source": [
    "Convertir entre letras de columna y números\n",
    "\n",
    "Para convertir de letras a números, llame a la función openpyxl.cell.column_index_from_string (). Para convertir de números a letras, llame a la función openpyxl.cell.get_column_letter (). Ingrese lo siguiente en el shell interactivo:"
   ]
  },
  {
   "cell_type": "code",
   "execution_count": null,
   "metadata": {},
   "outputs": [],
   "source": [
    "import openpyxl\n",
    "from openpyxl.utils import get_column_letter, column_index_from_string\n",
    "get_column_letter(1)\n"
   ]
  },
  {
   "cell_type": "code",
   "execution_count": null,
   "metadata": {},
   "outputs": [],
   "source": [
    "get_column_letter(2)\n"
   ]
  },
  {
   "cell_type": "code",
   "execution_count": null,
   "metadata": {},
   "outputs": [],
   "source": [
    "get_column_letter(27)\n"
   ]
  },
  {
   "cell_type": "code",
   "execution_count": null,
   "metadata": {},
   "outputs": [],
   "source": [
    "get_column_letter(900)\n"
   ]
  },
  {
   "cell_type": "code",
   "execution_count": null,
   "metadata": {},
   "outputs": [],
   "source": [
    "sheet = wb['Sheet1']\n",
    "get_column_letter(sheet.max_column)\n"
   ]
  },
  {
   "cell_type": "code",
   "execution_count": null,
   "metadata": {},
   "outputs": [],
   "source": [
    "column_index_from_string('A')\n"
   ]
  },
  {
   "cell_type": "code",
   "execution_count": null,
   "metadata": {},
   "outputs": [],
   "source": [
    "column_index_from_string('AA')"
   ]
  },
  {
   "cell_type": "markdown",
   "metadata": {},
   "source": [
    "After you import these two functions from the openpyxl.cell module, you can call get_column_letter() and pass it an integer like 27 to figure out what the letter name of the 27th column is. The function column_index_string() does the reverse: You pass it the letter name of a column, and it tells you what number that column is. You don’t need to have a workbook loaded to use these functions. If you want, you can load a workbook, get a Worksheet object, and call a Worksheet object method like max_column to get an integer. Then, you can pass that integer to get_column_letter()."
   ]
  },
  {
   "cell_type": "markdown",
   "metadata": {},
   "source": [
    "Después de importar estas dos funciones desde el módulo openpyxl.cell, puede llamar a get_column_letter () y pasarle un entero como 27 para averiguar cuál es el nombre de la letra de la 27ma columna. La función column_index_string () hace lo contrario: le pasa el nombre de la letra de una columna, y le dice qué número es esa columna. No necesita tener un libro de trabajo cargado para usar estas funciones. Si lo desea, puede cargar un libro de trabajo, obtener un objeto Hoja de trabajo y llamar a un método de objeto Hoja de trabajo como max_column para obtener un número entero. Entonces, puedes pasar ese entero a get_column_letter ()."
   ]
  },
  {
   "cell_type": "code",
   "execution_count": null,
   "metadata": {},
   "outputs": [],
   "source": []
  }
 ],
 "metadata": {
  "kernelspec": {
   "display_name": "Python 3",
   "language": "python",
   "name": "python3"
  },
  "language_info": {
   "codemirror_mode": {
    "name": "ipython",
    "version": 3
   },
   "file_extension": ".py",
   "mimetype": "text/x-python",
   "name": "python",
   "nbconvert_exporter": "python",
   "pygments_lexer": "ipython3",
   "version": "3.5.2"
  }
 },
 "nbformat": 4,
 "nbformat_minor": 2
}
