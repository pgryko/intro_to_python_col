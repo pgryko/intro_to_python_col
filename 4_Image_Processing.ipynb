{
 "cells": [
  {
   "cell_type": "markdown",
   "metadata": {},
   "source": [
    "# Image processing with amazon rekognition\n",
    "\n",
    "Amazon Rekognition is a service that makes it easy to add image analysis to your applications.\n",
    "\n",
    "Using AWS Rekognition, you can build applications to detect objects, scenes, text, faces or even to recognize celebrities and identify inappropriate content in images like nudity for instance.\n",
    "\n",
    "Rekognition allows also the search and the detection of faces."
   ]
  },
  {
   "cell_type": "markdown",
   "metadata": {},
   "source": [
    "Procesamiento de imágenes con Amazon rekognition\n",
    "\n",
    "Amazon Rekognition es un servicio que facilita agregar análisis de imágenes a sus aplicaciones.\n",
    "\n",
    "Usando AWS Rekognition, puedes crear aplicaciones para detectar objetos, escenas, texto, caras o incluso para reconocer celebridades e identificar contenido inapropiado en imágenes como la desnudez, por ejemplo.\n",
    "\n",
    "Rekognition también permite la búsqueda y la detección de caras."
   ]
  },
  {
   "cell_type": "code",
   "execution_count": null,
   "metadata": {},
   "outputs": [],
   "source": []
  }
 ],
 "metadata": {
  "kernelspec": {
   "display_name": "Python 3",
   "language": "python",
   "name": "python3"
  },
  "language_info": {
   "codemirror_mode": {
    "name": "ipython",
    "version": 3
   },
   "file_extension": ".py",
   "mimetype": "text/x-python",
   "name": "python",
   "nbconvert_exporter": "python",
   "pygments_lexer": "ipython3",
   "version": "3.5.2"
  }
 },
 "nbformat": 4,
 "nbformat_minor": 2
}
