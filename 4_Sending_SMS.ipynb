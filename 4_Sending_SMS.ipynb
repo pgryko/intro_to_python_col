{
 "cells": [
  {
   "cell_type": "markdown",
   "metadata": {},
   "source": [
    "# Sending and recieving SMS messages\n",
    "With just a few lines of code, your Python application can send and receive text messages with Twilio Programmable SMS.\n",
    "\n",
    "# Enviando y recibiendo mensajes SMS¶\n",
    "Con solo unas pocas líneas de código, su aplicación Python puede enviar y recibir mensajes de texto con Twilio Programmable SMS."
   ]
  },
  {
   "cell_type": "code",
   "execution_count": 3,
   "metadata": {},
   "outputs": [
    {
     "data": {
      "text/plain": [
       "<Twilio.Api.V2010.MessageInstance sid=SM9e600d680b434dcfb0036a06cf823d5b account_sid=ACdc48ea06120c6e911b4d3dcf4433ea66>"
      ]
     },
     "execution_count": 3,
     "metadata": {},
     "output_type": "execute_result"
    }
   ],
   "source": [
    "import os\n",
    "from twilio.rest import Client\n",
    "\n",
    "# Find these values at https://twilio.com/user/account\n",
    "\n",
    "#account_sid = \"ACdc48ea06120c6e911b4d3dcf4433ea66\"\n",
    "#auth_token = \"your_auth_token\"\n",
    "\n",
    "account_sid = os.environ.get('twilio_account_sid', '')\n",
    "\n",
    "auth_token = os.environ.get('twilio_auth_token', '')\n",
    "\n",
    "client = Client(account_sid, auth_token)\n",
    "\n",
    "client.api.account.messages.create(\n",
    "    to=\"+447904049491\",\n",
    "    from_=\"+441143032670\",\n",
    "    body=\"Hello there from the Workshop!\")"
   ]
  },
  {
   "cell_type": "code",
   "execution_count": null,
   "metadata": {},
   "outputs": [],
   "source": []
  }
 ],
 "metadata": {
  "kernelspec": {
   "display_name": "Python 3",
   "language": "python",
   "name": "python3"
  },
  "language_info": {
   "codemirror_mode": {
    "name": "ipython",
    "version": 3
   },
   "file_extension": ".py",
   "mimetype": "text/x-python",
   "name": "python",
   "nbconvert_exporter": "python",
   "pygments_lexer": "ipython3",
   "version": "3.5.2"
  }
 },
 "nbformat": 4,
 "nbformat_minor": 2
}
