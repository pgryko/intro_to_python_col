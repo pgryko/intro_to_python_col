{
 "cells": [
  {
   "cell_type": "markdown",
   "metadata": {},
   "source": [
    "# Introduction to programming with python:\n",
    "\n",
    "What can I do with programming? How can it help me with my business? How do I learn to program?\n",
    "\n",
    "This workshop will introduce a programming language called 'python', show examples of what can be done with it and provide a gentle introduction with hands on examples.\n",
    "\n",
    "This workshop is aimed at beginners with little or no prior programming experience.\n",
    "Entrepreneurs, students or just the curious are all welcome.\n",
    "\n",
    "The workshop will be given in English, with translation into Spanish.\n",
    "\n",
    "We particularly want to encourage women to attend, to improve the diversity of the software community."
   ]
  },
  {
   "cell_type": "markdown",
   "metadata": {},
   "source": [
    "# Introducción a la programación con python:\n",
    "\n",
    "¿Qué se puede hacer con la programación? ¿Cómo puede ayudar con mi negocio? ¿Cómo aprendo a programar?\n",
    "\n",
    "Este taller presentará un lenguaje de programación llamado 'python', mostrará ejemplos de lo que se puede hacer con el y proporcionará una introducción con ejemplos prácticos.\n",
    "\n",
    "Este taller está dirigido a principiantes con poca o ninguna experiencia previa en programación.\n",
    "Emprendedores, estudiantes o simplemente curiosos son todos bienvenidos!!\n",
    "\n",
    "El taller se impartirá en inglés, con traducción al español.\n",
    "\n",
    "Queremos animar a las mujeres a asistir, para mejorar la diversidad de la comunidad de software."
   ]
  },
  {
   "cell_type": "markdown",
   "metadata": {},
   "source": [
    "# Schedual\n",
    "\n",
    "1. Talk demonstrating the things that can be done with programming\n",
    "2. Work through code accademy https://www.codecademy.com/es\n",
    "3. Install python on people machines and play with tutorial code\n",
    "4. Networking and beers"
   ]
  },
  {
   "cell_type": "markdown",
   "metadata": {},
   "source": [
    "# Schedual\n",
    "\n",
    "1. Charla demostrando las cosas que se pueden hacer con la programación\n",
    "2. Trabajar a través de accademy de código https://www.codecademy.com/es\n",
    "3. Instalar python en máquinas de personas y jugar con código de tutorial\n",
    "4. Redes y cervezas"
   ]
  },
  {
   "cell_type": "code",
   "execution_count": null,
   "metadata": {},
   "outputs": [],
   "source": []
  }
 ],
 "metadata": {
  "kernelspec": {
   "display_name": "Python 3",
   "language": "python",
   "name": "python3"
  },
  "language_info": {
   "codemirror_mode": {
    "name": "ipython",
    "version": 3
   },
   "file_extension": ".py",
   "mimetype": "text/x-python",
   "name": "python",
   "nbconvert_exporter": "python",
   "pygments_lexer": "ipython3",
   "version": "3.5.2"
  }
 },
 "nbformat": 4,
 "nbformat_minor": 1
}
